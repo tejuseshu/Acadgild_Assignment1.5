{
 "cells": [
  {
   "cell_type": "code",
   "execution_count": 7,
   "metadata": {},
   "outputs": [
    {
     "name": "stdout",
     "output_type": "stream",
     "text": [
      "Write a sequence of comma-seperated numbers:34,45,55,66\n",
      "<class 'list'>\n",
      "[34, 45, 55, 66]\n"
     ]
    }
   ],
   "source": [
    "seq  = (input (\"Write a sequence of comma-seperated numbers:\"))\n",
    "num_seq_split=seq.split(\",\")\n",
    "\n",
    "for i in range(len(num_seq_split)):\n",
    "    num_seq_split[i]=int(num_seq_split[i])\n",
    "    \n",
    "print (type(num_seq_split))\n",
    "print(num_seq_split)\n"
   ]
  },
  {
   "cell_type": "code",
   "execution_count": null,
   "metadata": {},
   "outputs": [],
   "source": []
  }
 ],
 "metadata": {
  "kernelspec": {
   "display_name": "Python 3",
   "language": "python",
   "name": "python3"
  },
  "language_info": {
   "codemirror_mode": {
    "name": "ipython",
    "version": 3
   },
   "file_extension": ".py",
   "mimetype": "text/x-python",
   "name": "python",
   "nbconvert_exporter": "python",
   "pygments_lexer": "ipython3",
   "version": "3.6.5"
  }
 },
 "nbformat": 4,
 "nbformat_minor": 2
}
